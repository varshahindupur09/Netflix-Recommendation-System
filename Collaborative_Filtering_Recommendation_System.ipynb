{
 "cells": [
  {
   "cell_type": "code",
   "execution_count": 1,
   "id": "09923935-ab5c-4931-a0cd-134ed6c2af83",
   "metadata": {},
   "outputs": [],
   "source": [
    "import pandas as pd"
   ]
  },
  {
   "cell_type": "code",
   "execution_count": 2,
   "id": "6a602a65-0ecb-4637-97b8-47681b98a04c",
   "metadata": {},
   "outputs": [],
   "source": [
    "df = pd.read_csv(\"NetFlix_User_Data_Combined.csv\")"
   ]
  },
  {
   "cell_type": "markdown",
   "id": "6b02892c-02df-48e9-9da5-cb76f7ead8af",
   "metadata": {},
   "source": [
    "To implement collaborative filterincollg using the Surprise library in Python, you can follow these steps. "
   ]
  },
  {
   "cell_type": "code",
   "execution_count": 3,
   "id": "3b4855ed-e5ff-4ef1-b38c-f4f8378a4ae6",
   "metadata": {},
   "outputs": [
    {
     "name": "stdout",
     "output_type": "stream",
     "text": [
      "Defaulting to user installation because normal site-packages is not writeable\n",
      "Collecting scikit-surprise\n",
      "  Downloading scikit-surprise-1.1.3.tar.gz (771 kB)\n",
      "\u001b[K     |████████████████████████████████| 771 kB 152 kB/s eta 0:00:01\n",
      "\u001b[?25hRequirement already satisfied: joblib>=1.0.0 in /shared/centos7/anaconda3/2021.05/lib/python3.8/site-packages (from scikit-surprise) (1.0.1)\n",
      "Requirement already satisfied: numpy>=1.17.3 in /shared/centos7/anaconda3/2021.05/lib/python3.8/site-packages (from scikit-surprise) (1.20.1)\n",
      "Requirement already satisfied: scipy>=1.3.2 in /shared/centos7/anaconda3/2021.05/lib/python3.8/site-packages (from scikit-surprise) (1.6.2)\n",
      "Building wheels for collected packages: scikit-surprise\n",
      "  Building wheel for scikit-surprise (setup.py) ... \u001b[?25ldone\n",
      "\u001b[?25h  Created wheel for scikit-surprise: filename=scikit_surprise-1.1.3-cp38-cp38-linux_x86_64.whl size=2652426 sha256=06ff33436bc049a7b8584b3a4bcd8d25b8cf02da1f33c992beb3e95799c69fe6\n",
      "  Stored in directory: /home/hindupur.v/.cache/pip/wheels/af/db/86/2c18183a80ba05da35bf0fb7417aac5cddbd93bcb1b92fd3ea\n",
      "Successfully built scikit-surprise\n",
      "Installing collected packages: scikit-surprise\n",
      "Successfully installed scikit-surprise-1.1.3\n"
     ]
    }
   ],
   "source": [
    "!pip install scikit-surprise"
   ]
  },
  {
   "cell_type": "code",
   "execution_count": 6,
   "id": "0cd5afed-9dff-4200-a864-93f5f4755397",
   "metadata": {},
   "outputs": [
    {
     "name": "stdout",
     "output_type": "stream",
     "text": [
      "RMSE: 0.9892\n",
      "RMSE: 0.9891853123874466\n",
      "Recommendations for User 1488844:\n",
      "         MovieId                                   Movie_Title  Rating\n",
      "0              1                            Dinosaur Planet          3\n",
      "5149           8                 What the #$*! Do We Know!?          4\n",
      "24352         17                                  7 Seconds          2\n",
      "93266         30                     Something's Gotta Give          3\n",
      "224744        44                             Spitfire Grill          3\n",
      "262264        58                                Dragonheart          5\n",
      "287314        76                      I Love Lucy: Season 2          3\n",
      "312105        80                               Winter Kills          3\n",
      "312388        81                           Antarctica: IMAX          3\n",
      "313761        83                                   Silkwood          3\n",
      "359182       108                                    Spartan          3\n",
      "380947       111                        Duplex (Widescreen)          2\n",
      "415841       118                 Rambo: First Blood Part II          3\n",
      "458301       143                                   The Game          5\n",
      "574958       173                        The Devil's Brigade          3\n",
      "577779       175                             Reservoir Dogs          3\n",
      "679944       187                           Death to Smoochy          2\n",
      "702521       189                    Airplane II: The Sequel          2\n",
      "717110       191                           X2: X-Men United          5\n",
      "816455       195                            Chasing Freedom          4\n",
      "817119       197                               Taking Lives          3\n",
      "898435       199                            The Deer Hunter          3\n",
      "957451       216                                   Impostor          3\n",
      "1003230      232                              Gross Anatomy          3\n",
      "1019501      241                         North by Northwest          3\n",
      "1157186      268                        The Final Countdown          4\n",
      "1184311      270                 Sex and the City: Season 4          4\n",
      "1221220      273                                       Taxi          2\n",
      "1253984      275                                     Evelyn          3\n",
      "1276278      285                            The Devil's Own          4\n",
      "1377229      299                      Bridget Jones's Diary          3\n",
      "1458718      305                                       Jack          3\n",
      "1498057      312                              High Fidelity          4\n",
      "1563590      313                             Pay It Forward          3\n",
      "1670697      329                                      Dogma          4\n",
      "1736806      330                                Wild Things          4\n",
      "1763932      331                                Chasing Amy          3\n",
      "1811502      334                               The Pacifier          3\n",
      "1866827      348              The Last Temptation of Christ          4\n",
      "1881568      353                  Life or Something Like It          3\n",
      "1904443      357                      House of Sand and Fog          3\n",
      "1991396      361  The Phantom of the Opera: Special Edition          4\n",
      "2033464      367                                       Spun          3\n",
      "2062431      381                            Out for Justice          3\n",
      "2088837      393                    The Replacement Killers          3\n",
      "2123967      406                                    Hostage          4\n",
      "2177600      413                             Igby Goes Down          2\n",
      "2221663      418                                   The Deal          3\n",
      "2229833      422                 The Unsinkable Molly Brown          2\n",
      "2261267      429                           Zeus and Roxanne          3\n",
      "2270194      433                              Untamed Heart          3\n",
      "2351136      445                            Michael Collins          3\n",
      "2369395      457                          Kill Bill: Vol. 2          3\n",
      "2499089      468                    The Matrix: Revolutions          5\n",
      "2600081      482                                      Frida          3\n",
      "2656677      483                                Rush Hour 2          3\n"
     ]
    }
   ],
   "source": [
    "from surprise import Reader, Dataset, SVD\n",
    "from surprise.model_selection import train_test_split\n",
    "from surprise.accuracy import rmse\n",
    "import pandas as pd\n",
    "\n",
    "# Create a Surprise Reader object\n",
    "reader = Reader(rating_scale=(1, 5))\n",
    "\n",
    "# Load your DataFrame into a Surprise Dataset\n",
    "data = Dataset.load_from_df(df[['CustId', 'MovieId', 'Rating']], reader)\n",
    "\n",
    "# Split the data into training and testing sets\n",
    "trainset, testset = train_test_split(data, test_size=0.2, random_state=42)\n",
    "\n",
    "# Choose a collaborative filtering algorithm (SVD in this example)\n",
    "algo = SVD()\n",
    "\n",
    "# Train the model on the training set\n",
    "algo.fit(trainset)\n",
    "\n",
    "# Make predictions on the test set\n",
    "predictions = algo.test(testset)\n",
    "\n",
    "# Evaluate the model\n",
    "accuracy = rmse(predictions)\n",
    "print(f'RMSE: {accuracy}')\n",
    "\n",
    "# Generate recommendations for a specific user\n",
    "user_id = 1488844\n",
    "user_recommendations = df[df['CustId'] == user_id][['MovieId', 'Movie_Title', 'Rating']]\n",
    "user_recommendations = user_recommendations.drop_duplicates()\n",
    "\n",
    "# Display recommendations\n",
    "print(f\"Recommendations for User {user_id}:\")\n",
    "print(user_recommendations)\n"
   ]
  },
  {
   "cell_type": "code",
   "execution_count": null,
   "id": "33a60246-2b3e-4189-a25f-2aabaf16ec4a",
   "metadata": {},
   "outputs": [],
   "source": []
  }
 ],
 "metadata": {
  "kernelspec": {
   "display_name": "Python 3",
   "language": "python",
   "name": "python3"
  },
  "language_info": {
   "codemirror_mode": {
    "name": "ipython",
    "version": 3
   },
   "file_extension": ".py",
   "mimetype": "text/x-python",
   "name": "python",
   "nbconvert_exporter": "python",
   "pygments_lexer": "ipython3",
   "version": "3.8.8"
  }
 },
 "nbformat": 4,
 "nbformat_minor": 5
}
