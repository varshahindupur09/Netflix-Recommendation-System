{
 "cells": [
  {
   "cell_type": "markdown",
   "id": "ea3b1070-2ec1-497d-a532-0f8b25dd9155",
   "metadata": {},
   "source": [
    "Adding Genre to the dataset"
   ]
  },
  {
   "cell_type": "code",
   "execution_count": 4,
   "id": "4b6add5e-322d-40da-bdbd-1f1e0c5fd5bd",
   "metadata": {},
   "outputs": [],
   "source": [
    "import pandas as pd"
   ]
  },
  {
   "cell_type": "code",
   "execution_count": 2,
   "id": "5ac53e8b-1963-417c-b25f-3611f2912786",
   "metadata": {},
   "outputs": [],
   "source": [
    "df = pd.read_csv(\"NetFlix_User_Data_Combined.csv\")"
   ]
  },
  {
   "cell_type": "code",
   "execution_count": 4,
   "id": "1889a3f8-83fa-431a-a78a-450c39e9054d",
   "metadata": {},
   "outputs": [
    {
     "data": {
      "text/html": [
       "<div>\n",
       "<style scoped>\n",
       "    .dataframe tbody tr th:only-of-type {\n",
       "        vertical-align: middle;\n",
       "    }\n",
       "\n",
       "    .dataframe tbody tr th {\n",
       "        vertical-align: top;\n",
       "    }\n",
       "\n",
       "    .dataframe thead th {\n",
       "        text-align: right;\n",
       "    }\n",
       "</style>\n",
       "<table border=\"1\" class=\"dataframe\">\n",
       "  <thead>\n",
       "    <tr style=\"text-align: right;\">\n",
       "      <th></th>\n",
       "      <th>CustId</th>\n",
       "      <th>Rating</th>\n",
       "      <th>Date</th>\n",
       "      <th>MovieId</th>\n",
       "      <th>Movie_Id</th>\n",
       "      <th>Release_Year</th>\n",
       "      <th>Movie_Title</th>\n",
       "    </tr>\n",
       "  </thead>\n",
       "  <tbody>\n",
       "    <tr>\n",
       "      <th>0</th>\n",
       "      <td>1488844</td>\n",
       "      <td>3</td>\n",
       "      <td>2005-09-06</td>\n",
       "      <td>1</td>\n",
       "      <td>1</td>\n",
       "      <td>2003.0</td>\n",
       "      <td>Dinosaur Planet</td>\n",
       "    </tr>\n",
       "  </tbody>\n",
       "</table>\n",
       "</div>"
      ],
      "text/plain": [
       "    CustId  Rating        Date  MovieId  Movie_Id  Release_Year  \\\n",
       "0  1488844       3  2005-09-06        1         1        2003.0   \n",
       "\n",
       "          Movie_Title  \n",
       "0  Dinosaur Planet     "
      ]
     },
     "execution_count": 4,
     "metadata": {},
     "output_type": "execute_result"
    }
   ],
   "source": [
    "df.iloc[0:1]"
   ]
  },
  {
   "cell_type": "code",
   "execution_count": 8,
   "id": "4c7ecee3-41b4-4a72-acbd-210a18f0dd58",
   "metadata": {},
   "outputs": [
    {
     "data": {
      "text/html": [
       "<div>\n",
       "<style scoped>\n",
       "    .dataframe tbody tr th:only-of-type {\n",
       "        vertical-align: middle;\n",
       "    }\n",
       "\n",
       "    .dataframe tbody tr th {\n",
       "        vertical-align: top;\n",
       "    }\n",
       "\n",
       "    .dataframe thead th {\n",
       "        text-align: right;\n",
       "    }\n",
       "</style>\n",
       "<table border=\"1\" class=\"dataframe\">\n",
       "  <thead>\n",
       "    <tr style=\"text-align: right;\">\n",
       "      <th></th>\n",
       "      <th>CustId</th>\n",
       "      <th>Rating</th>\n",
       "      <th>Date</th>\n",
       "      <th>MovieId</th>\n",
       "      <th>Movie_Id</th>\n",
       "      <th>Release_Year</th>\n",
       "      <th>Movie_Title</th>\n",
       "    </tr>\n",
       "  </thead>\n",
       "  <tbody>\n",
       "    <tr>\n",
       "      <th>590</th>\n",
       "      <td>1563935</td>\n",
       "      <td>1</td>\n",
       "      <td>2005-08-12</td>\n",
       "      <td>2</td>\n",
       "      <td>2</td>\n",
       "      <td>2004.0</td>\n",
       "      <td>Isle of Man TT 2004 Review</td>\n",
       "    </tr>\n",
       "  </tbody>\n",
       "</table>\n",
       "</div>"
      ],
      "text/plain": [
       "      CustId  Rating        Date  MovieId  Movie_Id  Release_Year  \\\n",
       "590  1563935       1  2005-08-12        2         2        2004.0   \n",
       "\n",
       "                       Movie_Title  \n",
       "590  Isle of Man TT 2004 Review     "
      ]
     },
     "execution_count": 8,
     "metadata": {},
     "output_type": "execute_result"
    }
   ],
   "source": [
    "df.iloc[590:591]"
   ]
  },
  {
   "cell_type": "code",
   "execution_count": 11,
   "id": "984cefb7-8ccb-4a45-af4e-c4cc597b0faa",
   "metadata": {},
   "outputs": [],
   "source": [
    "df['Genre'] = 'Other'  # Default genre as 'Other'\n",
    "df.loc[df['MovieId'] == 1, 'Genre'] = 'Science Fiction'"
   ]
  },
  {
   "cell_type": "code",
   "execution_count": 12,
   "id": "4302a153-c107-4ec0-9477-94d97c9c900f",
   "metadata": {},
   "outputs": [
    {
     "data": {
      "text/html": [
       "<div>\n",
       "<style scoped>\n",
       "    .dataframe tbody tr th:only-of-type {\n",
       "        vertical-align: middle;\n",
       "    }\n",
       "\n",
       "    .dataframe tbody tr th {\n",
       "        vertical-align: top;\n",
       "    }\n",
       "\n",
       "    .dataframe thead th {\n",
       "        text-align: right;\n",
       "    }\n",
       "</style>\n",
       "<table border=\"1\" class=\"dataframe\">\n",
       "  <thead>\n",
       "    <tr style=\"text-align: right;\">\n",
       "      <th></th>\n",
       "      <th>CustId</th>\n",
       "      <th>Rating</th>\n",
       "      <th>Date</th>\n",
       "      <th>MovieId</th>\n",
       "      <th>Movie_Id</th>\n",
       "      <th>Release_Year</th>\n",
       "      <th>Movie_Title</th>\n",
       "      <th>Genre</th>\n",
       "    </tr>\n",
       "  </thead>\n",
       "  <tbody>\n",
       "    <tr>\n",
       "      <th>0</th>\n",
       "      <td>1488844</td>\n",
       "      <td>3</td>\n",
       "      <td>2005-09-06</td>\n",
       "      <td>1</td>\n",
       "      <td>1</td>\n",
       "      <td>2003.0</td>\n",
       "      <td>Dinosaur Planet</td>\n",
       "      <td>Science Fiction</td>\n",
       "    </tr>\n",
       "    <tr>\n",
       "      <th>1</th>\n",
       "      <td>822109</td>\n",
       "      <td>5</td>\n",
       "      <td>2005-05-13</td>\n",
       "      <td>1</td>\n",
       "      <td>1</td>\n",
       "      <td>2003.0</td>\n",
       "      <td>Dinosaur Planet</td>\n",
       "      <td>Science Fiction</td>\n",
       "    </tr>\n",
       "    <tr>\n",
       "      <th>2</th>\n",
       "      <td>885013</td>\n",
       "      <td>4</td>\n",
       "      <td>2005-10-19</td>\n",
       "      <td>1</td>\n",
       "      <td>1</td>\n",
       "      <td>2003.0</td>\n",
       "      <td>Dinosaur Planet</td>\n",
       "      <td>Science Fiction</td>\n",
       "    </tr>\n",
       "    <tr>\n",
       "      <th>3</th>\n",
       "      <td>30878</td>\n",
       "      <td>4</td>\n",
       "      <td>2005-12-26</td>\n",
       "      <td>1</td>\n",
       "      <td>1</td>\n",
       "      <td>2003.0</td>\n",
       "      <td>Dinosaur Planet</td>\n",
       "      <td>Science Fiction</td>\n",
       "    </tr>\n",
       "    <tr>\n",
       "      <th>4</th>\n",
       "      <td>823519</td>\n",
       "      <td>3</td>\n",
       "      <td>2004-05-03</td>\n",
       "      <td>1</td>\n",
       "      <td>1</td>\n",
       "      <td>2003.0</td>\n",
       "      <td>Dinosaur Planet</td>\n",
       "      <td>Science Fiction</td>\n",
       "    </tr>\n",
       "  </tbody>\n",
       "</table>\n",
       "</div>"
      ],
      "text/plain": [
       "    CustId  Rating        Date  MovieId  Movie_Id  Release_Year  \\\n",
       "0  1488844       3  2005-09-06        1         1        2003.0   \n",
       "1   822109       5  2005-05-13        1         1        2003.0   \n",
       "2   885013       4  2005-10-19        1         1        2003.0   \n",
       "3    30878       4  2005-12-26        1         1        2003.0   \n",
       "4   823519       3  2004-05-03        1         1        2003.0   \n",
       "\n",
       "          Movie_Title            Genre  \n",
       "0  Dinosaur Planet     Science Fiction  \n",
       "1  Dinosaur Planet     Science Fiction  \n",
       "2  Dinosaur Planet     Science Fiction  \n",
       "3  Dinosaur Planet     Science Fiction  \n",
       "4  Dinosaur Planet     Science Fiction  "
      ]
     },
     "execution_count": 12,
     "metadata": {},
     "output_type": "execute_result"
    }
   ],
   "source": [
    "df.head()"
   ]
  },
  {
   "cell_type": "code",
   "execution_count": 13,
   "id": "021a0eeb-ca12-498f-8d47-ccc51db3b857",
   "metadata": {},
   "outputs": [
    {
     "data": {
      "text/html": [
       "<div>\n",
       "<style scoped>\n",
       "    .dataframe tbody tr th:only-of-type {\n",
       "        vertical-align: middle;\n",
       "    }\n",
       "\n",
       "    .dataframe tbody tr th {\n",
       "        vertical-align: top;\n",
       "    }\n",
       "\n",
       "    .dataframe thead th {\n",
       "        text-align: right;\n",
       "    }\n",
       "</style>\n",
       "<table border=\"1\" class=\"dataframe\">\n",
       "  <thead>\n",
       "    <tr style=\"text-align: right;\">\n",
       "      <th></th>\n",
       "      <th>CustId</th>\n",
       "      <th>Rating</th>\n",
       "      <th>Date</th>\n",
       "      <th>MovieId</th>\n",
       "      <th>Movie_Id</th>\n",
       "      <th>Release_Year</th>\n",
       "      <th>Movie_Title</th>\n",
       "      <th>Genre</th>\n",
       "    </tr>\n",
       "  </thead>\n",
       "  <tbody>\n",
       "    <tr>\n",
       "      <th>2761096</th>\n",
       "      <td>2082428</td>\n",
       "      <td>4</td>\n",
       "      <td>2005-11-29</td>\n",
       "      <td>491</td>\n",
       "      <td>491</td>\n",
       "      <td>1966.0</td>\n",
       "      <td>Torn Curtain</td>\n",
       "      <td>Other</td>\n",
       "    </tr>\n",
       "    <tr>\n",
       "      <th>2761097</th>\n",
       "      <td>313229</td>\n",
       "      <td>4</td>\n",
       "      <td>2005-10-20</td>\n",
       "      <td>491</td>\n",
       "      <td>491</td>\n",
       "      <td>1966.0</td>\n",
       "      <td>Torn Curtain</td>\n",
       "      <td>Other</td>\n",
       "    </tr>\n",
       "    <tr>\n",
       "      <th>2761098</th>\n",
       "      <td>2479719</td>\n",
       "      <td>4</td>\n",
       "      <td>2005-10-24</td>\n",
       "      <td>491</td>\n",
       "      <td>491</td>\n",
       "      <td>1966.0</td>\n",
       "      <td>Torn Curtain</td>\n",
       "      <td>Other</td>\n",
       "    </tr>\n",
       "    <tr>\n",
       "      <th>2761099</th>\n",
       "      <td>717937</td>\n",
       "      <td>4</td>\n",
       "      <td>2005-10-25</td>\n",
       "      <td>491</td>\n",
       "      <td>491</td>\n",
       "      <td>1966.0</td>\n",
       "      <td>Torn Curtain</td>\n",
       "      <td>Other</td>\n",
       "    </tr>\n",
       "    <tr>\n",
       "      <th>2761100</th>\n",
       "      <td>2549238</td>\n",
       "      <td>3</td>\n",
       "      <td>2005-12-01</td>\n",
       "      <td>491</td>\n",
       "      <td>491</td>\n",
       "      <td>1966.0</td>\n",
       "      <td>Torn Curtain</td>\n",
       "      <td>Other</td>\n",
       "    </tr>\n",
       "  </tbody>\n",
       "</table>\n",
       "</div>"
      ],
      "text/plain": [
       "          CustId  Rating        Date  MovieId  Movie_Id  Release_Year  \\\n",
       "2761096  2082428       4  2005-11-29      491       491        1966.0   \n",
       "2761097   313229       4  2005-10-20      491       491        1966.0   \n",
       "2761098  2479719       4  2005-10-24      491       491        1966.0   \n",
       "2761099   717937       4  2005-10-25      491       491        1966.0   \n",
       "2761100  2549238       3  2005-12-01      491       491        1966.0   \n",
       "\n",
       "             Movie_Title  Genre  \n",
       "2761096  Torn Curtain     Other  \n",
       "2761097  Torn Curtain     Other  \n",
       "2761098  Torn Curtain     Other  \n",
       "2761099  Torn Curtain     Other  \n",
       "2761100  Torn Curtain     Other  "
      ]
     },
     "execution_count": 13,
     "metadata": {},
     "output_type": "execute_result"
    }
   ],
   "source": [
    "df.tail()"
   ]
  },
  {
   "cell_type": "code",
   "execution_count": 16,
   "id": "0f478878-93af-4afa-aaa4-14ade9da232e",
   "metadata": {},
   "outputs": [],
   "source": [
    "df.loc[df['MovieId'] == 8, 'Genre'] = 'Documentary, Comedy, Drama'"
   ]
  },
  {
   "cell_type": "code",
   "execution_count": 15,
   "id": "63e81ef1-b456-4251-9868-68e1a9049259",
   "metadata": {},
   "outputs": [],
   "source": [
    "df.loc[df['MovieId'] == 2, 'Genre'] = 'Action, Adventure'"
   ]
  },
  {
   "cell_type": "code",
   "execution_count": 17,
   "id": "1e141cdc-7966-451f-b42e-2d3dc2a21798",
   "metadata": {},
   "outputs": [],
   "source": [
    "df.loc[df['MovieId'] == 3, 'Genre'] = 'Crime, Drama, Mystery'"
   ]
  },
  {
   "cell_type": "code",
   "execution_count": 18,
   "id": "9a837a6d-0f7d-4875-85c6-124a6677eabe",
   "metadata": {},
   "outputs": [],
   "source": [
    "df.loc[df['MovieId'] == 4, 'Genre'] = 'Family'"
   ]
  },
  {
   "cell_type": "code",
   "execution_count": 19,
   "id": "46c916d9-e57b-4e44-bf15-cc8927ab6534",
   "metadata": {},
   "outputs": [],
   "source": [
    "df.loc[df['MovieId'] == 5, 'Genre'] = 'Documentary, Sport'"
   ]
  },
  {
   "cell_type": "code",
   "execution_count": 20,
   "id": "dc02c469-1807-41ae-b38b-039e766fd269",
   "metadata": {},
   "outputs": [],
   "source": [
    "df.loc[df['MovieId'] == 28, 'Genre'] = 'Animation, Adventure, Comedy'"
   ]
  },
  {
   "cell_type": "code",
   "execution_count": 21,
   "id": "180985ec-b1ca-4879-b8b0-69c2bd493760",
   "metadata": {},
   "outputs": [],
   "source": [
    "df.to_csv(\"Netflix_Movies_User_Ratings_Genre.csv\", index=False)"
   ]
  },
  {
   "cell_type": "code",
   "execution_count": 22,
   "id": "e6f415cc-f88e-4ddf-afc0-abd7f4c7c179",
   "metadata": {},
   "outputs": [
    {
     "data": {
      "text/html": [
       "<div>\n",
       "<style scoped>\n",
       "    .dataframe tbody tr th:only-of-type {\n",
       "        vertical-align: middle;\n",
       "    }\n",
       "\n",
       "    .dataframe tbody tr th {\n",
       "        vertical-align: top;\n",
       "    }\n",
       "\n",
       "    .dataframe thead th {\n",
       "        text-align: right;\n",
       "    }\n",
       "</style>\n",
       "<table border=\"1\" class=\"dataframe\">\n",
       "  <thead>\n",
       "    <tr style=\"text-align: right;\">\n",
       "      <th></th>\n",
       "      <th>Movie_Title</th>\n",
       "      <th>Genre</th>\n",
       "    </tr>\n",
       "  </thead>\n",
       "  <tbody>\n",
       "    <tr>\n",
       "      <th>2846</th>\n",
       "      <td>The Rise and Fall of ECW</td>\n",
       "      <td>Documentary, Sport</td>\n",
       "    </tr>\n",
       "    <tr>\n",
       "      <th>2847</th>\n",
       "      <td>The Rise and Fall of ECW</td>\n",
       "      <td>Documentary, Sport</td>\n",
       "    </tr>\n",
       "    <tr>\n",
       "      <th>2848</th>\n",
       "      <td>The Rise and Fall of ECW</td>\n",
       "      <td>Documentary, Sport</td>\n",
       "    </tr>\n",
       "    <tr>\n",
       "      <th>2849</th>\n",
       "      <td>The Rise and Fall of ECW</td>\n",
       "      <td>Documentary, Sport</td>\n",
       "    </tr>\n",
       "    <tr>\n",
       "      <th>2850</th>\n",
       "      <td>The Rise and Fall of ECW</td>\n",
       "      <td>Documentary, Sport</td>\n",
       "    </tr>\n",
       "    <tr>\n",
       "      <th>...</th>\n",
       "      <td>...</td>\n",
       "      <td>...</td>\n",
       "    </tr>\n",
       "    <tr>\n",
       "      <th>20003</th>\n",
       "      <td>What the #$*! Do We Know!?</td>\n",
       "      <td>Documentary, Comedy, Drama</td>\n",
       "    </tr>\n",
       "    <tr>\n",
       "      <th>20004</th>\n",
       "      <td>What the #$*! Do We Know!?</td>\n",
       "      <td>Documentary, Comedy, Drama</td>\n",
       "    </tr>\n",
       "    <tr>\n",
       "      <th>20005</th>\n",
       "      <td>What the #$*! Do We Know!?</td>\n",
       "      <td>Documentary, Comedy, Drama</td>\n",
       "    </tr>\n",
       "    <tr>\n",
       "      <th>20006</th>\n",
       "      <td>What the #$*! Do We Know!?</td>\n",
       "      <td>Documentary, Comedy, Drama</td>\n",
       "    </tr>\n",
       "    <tr>\n",
       "      <th>20007</th>\n",
       "      <td>What the #$*! Do We Know!?</td>\n",
       "      <td>Documentary, Comedy, Drama</td>\n",
       "    </tr>\n",
       "  </tbody>\n",
       "</table>\n",
       "<p>16050 rows × 2 columns</p>\n",
       "</div>"
      ],
      "text/plain": [
       "                         Movie_Title                       Genre\n",
       "2846     The Rise and Fall of ECW             Documentary, Sport\n",
       "2847     The Rise and Fall of ECW             Documentary, Sport\n",
       "2848     The Rise and Fall of ECW             Documentary, Sport\n",
       "2849     The Rise and Fall of ECW             Documentary, Sport\n",
       "2850     The Rise and Fall of ECW             Documentary, Sport\n",
       "...                              ...                         ...\n",
       "20003  What the #$*! Do We Know!?     Documentary, Comedy, Drama\n",
       "20004  What the #$*! Do We Know!?     Documentary, Comedy, Drama\n",
       "20005  What the #$*! Do We Know!?     Documentary, Comedy, Drama\n",
       "20006  What the #$*! Do We Know!?     Documentary, Comedy, Drama\n",
       "20007  What the #$*! Do We Know!?     Documentary, Comedy, Drama\n",
       "\n",
       "[16050 rows x 2 columns]"
      ]
     },
     "execution_count": 22,
     "metadata": {},
     "output_type": "execute_result"
    }
   ],
   "source": [
    "documentary_df = df[df['Genre'].str.contains('Documentary', case=False, na=False)]\n",
    "documentary_df[['Movie_Title', 'Genre']]"
   ]
  },
  {
   "cell_type": "code",
   "execution_count": 6,
   "id": "6ed3dc26-10cf-4835-8a8c-25bc0d3c7a8b",
   "metadata": {},
   "outputs": [],
   "source": [
    "df = pd.read_csv(\"Netflix_Movies_User_Ratings_Genre.csv\")"
   ]
  },
  {
   "cell_type": "markdown",
   "id": "a9f94464-25c7-4042-8574-2016e42dc04d",
   "metadata": {},
   "source": [
    "# Text2Emotion"
   ]
  },
  {
   "cell_type": "code",
   "execution_count": 27,
   "id": "78f52534-f65e-4aed-be44-356d01158326",
   "metadata": {},
   "outputs": [
    {
     "name": "stdout",
     "output_type": "stream",
     "text": [
      "Defaulting to user installation because normal site-packages is not writeable\n",
      "Requirement already satisfied: text2emotion in /home/hindupur.v/.local/lib/python3.8/site-packages (0.0.5)\n",
      "Requirement already satisfied: emoji>=0.6.0 in /home/hindupur.v/.local/lib/python3.8/site-packages (from text2emotion) (2.10.0)\n",
      "Requirement already satisfied: nltk in /shared/centos7/anaconda3/2021.05/lib/python3.8/site-packages (from text2emotion) (3.6.1)\n",
      "Requirement already satisfied: regex in /shared/centos7/anaconda3/2021.05/lib/python3.8/site-packages (from nltk->text2emotion) (2021.4.4)\n",
      "Requirement already satisfied: joblib in /shared/centos7/anaconda3/2021.05/lib/python3.8/site-packages (from nltk->text2emotion) (1.0.1)\n",
      "Requirement already satisfied: tqdm in /shared/centos7/anaconda3/2021.05/lib/python3.8/site-packages (from nltk->text2emotion) (4.59.0)\n",
      "Requirement already satisfied: click in /shared/centos7/anaconda3/2021.05/lib/python3.8/site-packages (from nltk->text2emotion) (7.1.2)\n"
     ]
    }
   ],
   "source": [
    "# !pip install text2emotion\n",
    "# !pip install spacy"
   ]
  },
  {
   "cell_type": "code",
   "execution_count": 29,
   "id": "ea50c68b-80f4-4730-a0d7-12502abd00ce",
   "metadata": {},
   "outputs": [],
   "source": [
    "# import text2emotion as te\n",
    "# text=\"hi how are you\"\n",
    "# te.get_emotion(text)"
   ]
  },
  {
   "cell_type": "code",
   "execution_count": 30,
   "id": "c97c2d3c-6323-4688-87d6-829ca080f28b",
   "metadata": {},
   "outputs": [],
   "source": [
    "# from text2emotion import get_emotion\n",
    "# import emoji\n",
    "\n",
    "# text = \"I was asked to sign a third party contract a week out from stay. If it wasn't an 8 person group that took a lot of wrangling I would have cancelled the booking straight away. Bathrooms - there are no stand alone bathrooms. Please consider this - you have to clear out the main bedroom to use that bathroom. Other option is you walk through a different bedroom to get to its en-suite. Signs all over the apartment - there are signs everywhere - some helpful - some telling you rules. Perhaps some people like this but It negatively affected our enjoyment of the accommodation. Stairs - lots of them - some had slightly bending wood which caused a minor injury.\"\n",
    "\n",
    "# x = get_emotion(text)\n",
    "# x"
   ]
  },
  {
   "cell_type": "code",
   "execution_count": 31,
   "id": "1f0f4a6c-8eda-4cfe-9923-129d80add046",
   "metadata": {},
   "outputs": [],
   "source": [
    "# df['Emotion'] = df['Movie_Title'].apply(get_emotion)"
   ]
  },
  {
   "cell_type": "code",
   "execution_count": 32,
   "id": "b3f2dd77-6fb3-4336-b918-95ea9a15fa2a",
   "metadata": {},
   "outputs": [
    {
     "name": "stdout",
     "output_type": "stream",
     "text": [
      "\n",
      "\n",
      " hate :  [('fear', 0.2), ('anger', 0.2), ('negative', 0.2), ('sadness', 0.2), ('disgust', 0.2)]\n",
      "\n",
      "\n",
      " lovely :  [('trust', 0.16666666666666666), ('surprise', 0.16666666666666666), ('positive', 0.16666666666666666), ('sadness', 0.16666666666666666), ('joy', 0.16666666666666666), ('anticipation', 0.16666666666666666)]\n",
      "\n",
      "\n",
      " person :  [('fear', 0.0), ('anger', 0.0), ('anticip', 0.0), ('trust', 0.0), ('surprise', 0.0), ('positive', 0.0), ('negative', 0.0), ('sadness', 0.0), ('disgust', 0.0), ('joy', 0.0)]\n",
      "\n",
      "\n",
      " worst :  [('fear', 0.0), ('anger', 0.0), ('anticip', 0.0), ('trust', 0.0), ('surprise', 0.0), ('positive', 0.0), ('negative', 0.0), ('sadness', 0.0), ('disgust', 0.0), ('joy', 0.0)]\n"
     ]
    }
   ],
   "source": [
    "from nrclex import NRCLex\n",
    " \n",
    "# Assign list of strings\n",
    "text = ['hate', 'lovely', 'person', 'worst']\n",
    " \n",
    "# Iterate through list\n",
    "for i in range(len(text)):\n",
    " \n",
    "    # Create object\n",
    "    emotion = NRCLex(text[i])\n",
    " \n",
    "    # Classify emotion\n",
    "    print('\\n\\n', text[i], ': ', emotion.top_emotions)"
   ]
  },
  {
   "cell_type": "code",
   "execution_count": 39,
   "id": "16a2a23c-ae8d-40a9-a6b6-9f8cc48119b1",
   "metadata": {},
   "outputs": [
    {
     "name": "stdout",
     "output_type": "stream",
     "text": [
      "User 1488844 Emotions: [('fear', 0.0), ('anger', 0.0), ('anticip', 0.0), ('trust', 0.0), ('surprise', 0.0), ('positive', 0.0), ('negative', 0.0), ('sadness', 0.0), ('disgust', 0.0), ('joy', 0.0), ('fear', 0.0), ('anger', 0.0), ('anticip', 0.0), ('trust', 0.0), ('surprise', 0.0), ('positive', 0.0), ('negative', 0.0), ('sadness', 0.0), ('disgust', 0.0), ('joy', 0.0), ('fear', 0.0), ('anger', 0.0), ('anticip', 0.0), ('trust', 0.0), ('surprise', 0.0), ('positive', 0.0), ('negative', 0.0), ('sadness', 0.0), ('disgust', 0.0), ('joy', 0.0), ('fear', 0.0), ('anger', 0.0), ('anticip', 0.0), ('trust', 0.0), ('surprise', 0.0), ('positive', 0.0), ('negative', 0.0), ('sadness', 0.0), ('disgust', 0.0), ('joy', 0.0), ('fear', 0.0), ('anger', 0.0), ('anticip', 0.0), ('trust', 0.0), ('surprise', 0.0), ('positive', 0.0), ('negative', 0.0), ('sadness', 0.0), ('disgust', 0.0), ('joy', 0.0), ('fear', 0.0), ('anger', 0.0), ('anticip', 0.0), ('trust', 0.0), ('surprise', 0.0), ('positive', 0.0), ('negative', 0.0), ('sadness', 0.0), ('disgust', 0.0), ('joy', 0.0), ('fear', 0.0), ('anger', 0.0), ('anticip', 0.0), ('trust', 0.0), ('surprise', 0.0), ('positive', 0.0), ('negative', 0.0), ('sadness', 0.0), ('disgust', 0.0), ('joy', 0.0), ('fear', 0.0), ('anger', 0.0), ('anticip', 0.0), ('trust', 0.0), ('surprise', 0.0), ('positive', 0.0), ('negative', 0.0), ('sadness', 0.0), ('disgust', 0.0), ('joy', 0.0), ('fear', 0.0), ('anger', 0.0), ('anticip', 0.0), ('trust', 0.0), ('surprise', 0.0), ('positive', 0.0), ('negative', 0.0), ('sadness', 0.0), ('disgust', 0.0), ('joy', 0.0), ('fear', 0.0), ('anger', 0.0), ('anticip', 0.0), ('trust', 0.0), ('surprise', 0.0), ('positive', 0.0), ('negative', 0.0), ('sadness', 0.0), ('disgust', 0.0), ('joy', 0.0), ('fear', 0.0), ('anger', 0.0), ('anticip', 0.0), ('trust', 0.0), ('surprise', 0.0), ('positive', 0.0), ('negative', 0.0), ('sadness', 0.0), ('disgust', 0.0), ('joy', 0.0), ('fear', 0.0), ('anger', 0.0), ('anticip', 0.0), ('trust', 0.0), ('surprise', 0.0), ('positive', 0.0), ('negative', 0.0), ('sadness', 0.0), ('disgust', 0.0), ('joy', 0.0), ('fear', 0.0), ('anger', 0.0), ('anticip', 0.0), ('trust', 0.0), ('surprise', 0.0), ('positive', 0.0), ('negative', 0.0), ('sadness', 0.0), ('disgust', 0.0), ('joy', 0.0), ('fear', 0.0), ('anger', 0.0), ('anticip', 0.0), ('trust', 0.0), ('surprise', 0.0), ('positive', 0.0), ('negative', 0.0), ('sadness', 0.0), ('disgust', 0.0), ('joy', 0.0), ('fear', 0.0), ('anger', 0.0), ('anticip', 0.0), ('trust', 0.0), ('surprise', 0.0), ('positive', 0.0), ('negative', 0.0), ('sadness', 0.0), ('disgust', 0.0), ('joy', 0.0), ('fear', 0.0), ('anger', 0.0), ('anticip', 0.0), ('trust', 0.0), ('surprise', 0.0), ('positive', 0.0), ('negative', 0.0), ('sadness', 0.0), ('disgust', 0.0), ('joy', 0.0), ('fear', 0.0), ('anger', 0.0), ('anticip', 0.0), ('trust', 0.0), ('surprise', 0.0), ('positive', 0.0), ('negative', 0.0), ('sadness', 0.0), ('disgust', 0.0), ('joy', 0.0), ('fear', 0.0), ('anger', 0.0), ('anticip', 0.0), ('trust', 0.0), ('surprise', 0.0), ('positive', 0.0), ('negative', 0.0), ('sadness', 0.0), ('disgust', 0.0), ('joy', 0.0), ('fear', 0.0), ('anger', 0.0), ('anticip', 0.0), ('trust', 0.0), ('surprise', 0.0), ('positive', 0.0), ('negative', 0.0), ('sadness', 0.0), ('disgust', 0.0), ('joy', 0.0), ('fear', 0.0), ('anger', 0.0), ('anticip', 0.0), ('trust', 0.0), ('surprise', 0.0), ('positive', 0.0), ('negative', 0.0), ('sadness', 0.0), ('disgust', 0.0), ('joy', 0.0), ('fear', 0.0), ('anger', 0.0), ('anticip', 0.0), ('trust', 0.0), ('surprise', 0.0), ('positive', 0.0), ('negative', 0.0), ('sadness', 0.0), ('disgust', 0.0), ('joy', 0.0), ('fear', 0.0), ('anger', 0.0), ('anticip', 0.0), ('trust', 0.0), ('surprise', 0.0), ('positive', 0.0), ('negative', 0.0), ('sadness', 0.0), ('disgust', 0.0), ('joy', 0.0), ('fear', 0.0), ('anger', 0.0), ('anticip', 0.0), ('trust', 0.0), ('surprise', 0.0), ('positive', 0.0), ('negative', 0.0), ('sadness', 0.0), ('disgust', 0.0), ('joy', 0.0), ('fear', 0.0), ('anger', 0.0), ('anticip', 0.0), ('trust', 0.0), ('surprise', 0.0), ('positive', 0.0), ('negative', 0.0), ('sadness', 0.0), ('disgust', 0.0), ('joy', 0.0), ('fear', 0.0), ('anger', 0.0), ('anticip', 0.0), ('trust', 0.0), ('surprise', 0.0), ('positive', 0.0), ('negative', 0.0), ('sadness', 0.0), ('disgust', 0.0), ('joy', 0.0), ('fear', 0.0), ('anger', 0.0), ('anticip', 0.0), ('trust', 0.0), ('surprise', 0.0), ('positive', 0.0), ('negative', 0.0), ('sadness', 0.0), ('disgust', 0.0), ('joy', 0.0), ('fear', 0.0), ('anger', 0.0), ('anticip', 0.0), ('trust', 0.0), ('surprise', 0.0), ('positive', 0.0), ('negative', 0.0), ('sadness', 0.0), ('disgust', 0.0), ('joy', 0.0), ('fear', 0.0), ('anger', 0.0), ('anticip', 0.0), ('trust', 0.0), ('surprise', 0.0), ('positive', 0.0), ('negative', 0.0), ('sadness', 0.0), ('disgust', 0.0), ('joy', 0.0), ('fear', 0.0), ('anger', 0.0), ('anticip', 0.0), ('trust', 0.0), ('surprise', 0.0), ('positive', 0.0), ('negative', 0.0), ('sadness', 0.0), ('disgust', 0.0), ('joy', 0.0), ('fear', 0.0), ('anger', 0.0), ('anticip', 0.0), ('trust', 0.0), ('surprise', 0.0), ('positive', 0.0), ('negative', 0.0), ('sadness', 0.0), ('disgust', 0.0), ('joy', 0.0), ('fear', 0.0), ('anger', 0.0), ('anticip', 0.0), ('trust', 0.0), ('surprise', 0.0), ('positive', 0.0), ('negative', 0.0), ('sadness', 0.0), ('disgust', 0.0), ('joy', 0.0), ('fear', 0.0), ('anger', 0.0), ('anticip', 0.0), ('trust', 0.0), ('surprise', 0.0), ('positive', 0.0), ('negative', 0.0), ('sadness', 0.0), ('disgust', 0.0), ('joy', 0.0), ('fear', 0.0), ('anger', 0.0), ('anticip', 0.0), ('trust', 0.0), ('surprise', 0.0), ('positive', 0.0), ('negative', 0.0), ('sadness', 0.0), ('disgust', 0.0), ('joy', 0.0), ('fear', 0.0), ('anger', 0.0), ('anticip', 0.0), ('trust', 0.0), ('surprise', 0.0), ('positive', 0.0), ('negative', 0.0), ('sadness', 0.0), ('disgust', 0.0), ('joy', 0.0), ('fear', 0.0), ('anger', 0.0), ('anticip', 0.0), ('trust', 0.0), ('surprise', 0.0), ('positive', 0.0), ('negative', 0.0), ('sadness', 0.0), ('disgust', 0.0), ('joy', 0.0), ('fear', 0.0), ('anger', 0.0), ('anticip', 0.0), ('trust', 0.0), ('surprise', 0.0), ('positive', 0.0), ('negative', 0.0), ('sadness', 0.0), ('disgust', 0.0), ('joy', 0.0), ('fear', 0.0), ('anger', 0.0), ('anticip', 0.0), ('trust', 0.0), ('surprise', 0.0), ('positive', 0.0), ('negative', 0.0), ('sadness', 0.0), ('disgust', 0.0), ('joy', 0.0), ('fear', 0.0), ('anger', 0.0), ('anticip', 0.0), ('trust', 0.0), ('surprise', 0.0), ('positive', 0.0), ('negative', 0.0), ('sadness', 0.0), ('disgust', 0.0), ('joy', 0.0), ('fear', 0.0), ('anger', 0.0), ('anticip', 0.0), ('trust', 0.0), ('surprise', 0.0), ('positive', 0.0), ('negative', 0.0), ('sadness', 0.0), ('disgust', 0.0), ('joy', 0.0), ('fear', 0.0), ('anger', 0.0), ('anticip', 0.0), ('trust', 0.0), ('surprise', 0.0), ('positive', 0.0), ('negative', 0.0), ('sadness', 0.0), ('disgust', 0.0), ('joy', 0.0), ('fear', 0.0), ('anger', 0.0), ('anticip', 0.0), ('trust', 0.0), ('surprise', 0.0), ('positive', 0.0), ('negative', 0.0), ('sadness', 0.0), ('disgust', 0.0), ('joy', 0.0), ('fear', 0.0), ('anger', 0.0), ('anticip', 0.0), ('trust', 0.0), ('surprise', 0.0), ('positive', 0.0), ('negative', 0.0), ('sadness', 0.0), ('disgust', 0.0), ('joy', 0.0), ('fear', 0.0), ('anger', 0.0), ('anticip', 0.0), ('trust', 0.0), ('surprise', 0.0), ('positive', 0.0), ('negative', 0.0), ('sadness', 0.0), ('disgust', 0.0), ('joy', 0.0), ('fear', 0.0), ('anger', 0.0), ('anticip', 0.0), ('trust', 0.0), ('surprise', 0.0), ('positive', 0.0), ('negative', 0.0), ('sadness', 0.0), ('disgust', 0.0), ('joy', 0.0), ('fear', 0.0), ('anger', 0.0), ('anticip', 0.0), ('trust', 0.0), ('surprise', 0.0), ('positive', 0.0), ('negative', 0.0), ('sadness', 0.0), ('disgust', 0.0), ('joy', 0.0), ('fear', 0.0), ('anger', 0.0), ('anticip', 0.0), ('trust', 0.0), ('surprise', 0.0), ('positive', 0.0), ('negative', 0.0), ('sadness', 0.0), ('disgust', 0.0), ('joy', 0.0), ('fear', 0.0), ('anger', 0.0), ('anticip', 0.0), ('trust', 0.0), ('surprise', 0.0), ('positive', 0.0), ('negative', 0.0), ('sadness', 0.0), ('disgust', 0.0), ('joy', 0.0), ('fear', 0.0), ('anger', 0.0), ('anticip', 0.0), ('trust', 0.0), ('surprise', 0.0), ('positive', 0.0), ('negative', 0.0), ('sadness', 0.0), ('disgust', 0.0), ('joy', 0.0), ('fear', 0.0), ('anger', 0.0), ('anticip', 0.0), ('trust', 0.0), ('surprise', 0.0), ('positive', 0.0), ('negative', 0.0), ('sadness', 0.0), ('disgust', 0.0), ('joy', 0.0), ('fear', 0.0), ('anger', 0.0), ('anticip', 0.0), ('trust', 0.0), ('surprise', 0.0), ('positive', 0.0), ('negative', 0.0), ('sadness', 0.0), ('disgust', 0.0), ('joy', 0.0), ('fear', 0.0), ('anger', 0.0), ('anticip', 0.0), ('trust', 0.0), ('surprise', 0.0), ('positive', 0.0), ('negative', 0.0), ('sadness', 0.0), ('disgust', 0.0), ('joy', 0.0), ('fear', 0.0), ('anger', 0.0), ('anticip', 0.0), ('trust', 0.0), ('surprise', 0.0), ('positive', 0.0), ('negative', 0.0), ('sadness', 0.0), ('disgust', 0.0), ('joy', 0.0), ('fear', 0.0), ('anger', 0.0), ('anticip', 0.0), ('trust', 0.0), ('surprise', 0.0), ('positive', 0.0), ('negative', 0.0), ('sadness', 0.0), ('disgust', 0.0), ('joy', 0.0), ('fear', 0.0), ('anger', 0.0), ('anticip', 0.0), ('trust', 0.0), ('surprise', 0.0), ('positive', 0.0), ('negative', 0.0), ('sadness', 0.0), ('disgust', 0.0), ('joy', 0.0), ('fear', 0.0), ('anger', 0.0), ('anticip', 0.0), ('trust', 0.0), ('surprise', 0.0), ('positive', 0.0), ('negative', 0.0), ('sadness', 0.0), ('disgust', 0.0), ('joy', 0.0), ('fear', 0.0), ('anger', 0.0), ('anticip', 0.0), ('trust', 0.0), ('surprise', 0.0), ('positive', 0.0), ('negative', 0.0), ('sadness', 0.0), ('disgust', 0.0), ('joy', 0.0)]\n"
     ]
    },
    {
     "name": "stderr",
     "output_type": "stream",
     "text": [
      "<ipython-input-39-71d1954cb2ee>:11: SettingWithCopyWarning: \n",
      "A value is trying to be set on a copy of a slice from a DataFrame.\n",
      "Try using .loc[row_indexer,col_indexer] = value instead\n",
      "\n",
      "See the caveats in the documentation: https://pandas.pydata.org/pandas-docs/stable/user_guide/indexing.html#returning-a-view-versus-a-copy\n",
      "  user_df['Emotions'] = user_df['Genre'].apply(classify_emotion)\n"
     ]
    }
   ],
   "source": [
    "from nrclex import NRCLex\n",
    "\n",
    "user_id = 1488844\n",
    "\n",
    "user_df = df[df['CustId'] == user_id]\n",
    "\n",
    "def classify_emotion(genre):\n",
    "    emotion = NRCLex(genre)\n",
    "    return emotion.top_emotions\n",
    "\n",
    "user_df['Emotions'] = user_df['Genre'].apply(classify_emotion)\n",
    "\n",
    "user_emotions = user_df['Emotions'].sum()\n",
    "\n",
    "print(f\"User {user_id} Emotions: {user_emotions}\")"
   ]
  },
  {
   "cell_type": "code",
   "execution_count": null,
   "id": "0b6f0d34-18f5-4448-a2c0-98d9ad6f2b2c",
   "metadata": {},
   "outputs": [],
   "source": [
    "user_emotions = df.groupby('CustId')['Emotions'].sum()\n",
    "print(user_emotions)"
   ]
  },
  {
   "cell_type": "code",
   "execution_count": null,
   "id": "04f58f05-cc8a-416d-a710-75bded032ed4",
   "metadata": {},
   "outputs": [],
   "source": []
  },
  {
   "cell_type": "code",
   "execution_count": 41,
   "id": "87f57ddc-b39b-4167-abf8-e89a0aba9b43",
   "metadata": {},
   "outputs": [
    {
     "name": "stdout",
     "output_type": "stream",
     "text": [
      "Defaulting to user installation because normal site-packages is not writeable\n",
      "Collecting vaderSentiment\n",
      "  Downloading vaderSentiment-3.3.2-py2.py3-none-any.whl (125 kB)\n",
      "\u001b[K     |████████████████████████████████| 125 kB 3.3 MB/s eta 0:00:01\n",
      "\u001b[?25hRequirement already satisfied: requests in /shared/centos7/anaconda3/2021.05/lib/python3.8/site-packages (from vaderSentiment) (2.25.1)\n",
      "Requirement already satisfied: chardet<5,>=3.0.2 in /shared/centos7/anaconda3/2021.05/lib/python3.8/site-packages (from requests->vaderSentiment) (4.0.0)\n",
      "Requirement already satisfied: certifi>=2017.4.17 in /shared/centos7/anaconda3/2021.05/lib/python3.8/site-packages (from requests->vaderSentiment) (2020.12.5)\n",
      "Requirement already satisfied: idna<3,>=2.5 in /shared/centos7/anaconda3/2021.05/lib/python3.8/site-packages (from requests->vaderSentiment) (2.10)\n",
      "Requirement already satisfied: urllib3<1.27,>=1.21.1 in /shared/centos7/anaconda3/2021.05/lib/python3.8/site-packages (from requests->vaderSentiment) (1.26.4)\n",
      "Installing collected packages: vaderSentiment\n",
      "Successfully installed vaderSentiment-3.3.2\n"
     ]
    }
   ],
   "source": [
    "!pip install vaderSentiment\n"
   ]
  },
  {
   "cell_type": "code",
   "execution_count": 42,
   "id": "d4358ba6-250d-480b-91bb-96e9bd3f3b59",
   "metadata": {},
   "outputs": [],
   "source": [
    "from vaderSentiment.vaderSentiment import SentimentIntensityAnalyzer\n",
    "\n",
    "analyzer = SentimentIntensityAnalyzer()\n",
    "\n",
    "# Define a function to get sentiment scores\n",
    "def get_sentiment_scores(text):\n",
    "    sentiment_scores = analyzer.polarity_scores(text)\n",
    "    return sentiment_scores\n",
    "\n",
    "df['Sentiment_Scores'] = df['Movie_Title'].apply(get_sentiment_scores)\n"
   ]
  },
  {
   "cell_type": "code",
   "execution_count": 43,
   "id": "7c7b1487-38bb-4430-a450-d2791b893099",
   "metadata": {},
   "outputs": [
    {
     "data": {
      "text/html": [
       "<div>\n",
       "<style scoped>\n",
       "    .dataframe tbody tr th:only-of-type {\n",
       "        vertical-align: middle;\n",
       "    }\n",
       "\n",
       "    .dataframe tbody tr th {\n",
       "        vertical-align: top;\n",
       "    }\n",
       "\n",
       "    .dataframe thead th {\n",
       "        text-align: right;\n",
       "    }\n",
       "</style>\n",
       "<table border=\"1\" class=\"dataframe\">\n",
       "  <thead>\n",
       "    <tr style=\"text-align: right;\">\n",
       "      <th></th>\n",
       "      <th>CustId</th>\n",
       "      <th>Rating</th>\n",
       "      <th>Date</th>\n",
       "      <th>MovieId</th>\n",
       "      <th>Movie_Id</th>\n",
       "      <th>Release_Year</th>\n",
       "      <th>Movie_Title</th>\n",
       "      <th>Genre</th>\n",
       "      <th>Sentiment_Scores</th>\n",
       "    </tr>\n",
       "  </thead>\n",
       "  <tbody>\n",
       "    <tr>\n",
       "      <th>0</th>\n",
       "      <td>1488844</td>\n",
       "      <td>3</td>\n",
       "      <td>2005-09-06</td>\n",
       "      <td>1</td>\n",
       "      <td>1</td>\n",
       "      <td>2003.0</td>\n",
       "      <td>Dinosaur Planet</td>\n",
       "      <td>Science Fiction</td>\n",
       "      <td>{'neg': 0.0, 'neu': 1.0, 'pos': 0.0, 'compound...</td>\n",
       "    </tr>\n",
       "    <tr>\n",
       "      <th>1</th>\n",
       "      <td>822109</td>\n",
       "      <td>5</td>\n",
       "      <td>2005-05-13</td>\n",
       "      <td>1</td>\n",
       "      <td>1</td>\n",
       "      <td>2003.0</td>\n",
       "      <td>Dinosaur Planet</td>\n",
       "      <td>Science Fiction</td>\n",
       "      <td>{'neg': 0.0, 'neu': 1.0, 'pos': 0.0, 'compound...</td>\n",
       "    </tr>\n",
       "    <tr>\n",
       "      <th>2</th>\n",
       "      <td>885013</td>\n",
       "      <td>4</td>\n",
       "      <td>2005-10-19</td>\n",
       "      <td>1</td>\n",
       "      <td>1</td>\n",
       "      <td>2003.0</td>\n",
       "      <td>Dinosaur Planet</td>\n",
       "      <td>Science Fiction</td>\n",
       "      <td>{'neg': 0.0, 'neu': 1.0, 'pos': 0.0, 'compound...</td>\n",
       "    </tr>\n",
       "    <tr>\n",
       "      <th>3</th>\n",
       "      <td>30878</td>\n",
       "      <td>4</td>\n",
       "      <td>2005-12-26</td>\n",
       "      <td>1</td>\n",
       "      <td>1</td>\n",
       "      <td>2003.0</td>\n",
       "      <td>Dinosaur Planet</td>\n",
       "      <td>Science Fiction</td>\n",
       "      <td>{'neg': 0.0, 'neu': 1.0, 'pos': 0.0, 'compound...</td>\n",
       "    </tr>\n",
       "    <tr>\n",
       "      <th>4</th>\n",
       "      <td>823519</td>\n",
       "      <td>3</td>\n",
       "      <td>2004-05-03</td>\n",
       "      <td>1</td>\n",
       "      <td>1</td>\n",
       "      <td>2003.0</td>\n",
       "      <td>Dinosaur Planet</td>\n",
       "      <td>Science Fiction</td>\n",
       "      <td>{'neg': 0.0, 'neu': 1.0, 'pos': 0.0, 'compound...</td>\n",
       "    </tr>\n",
       "  </tbody>\n",
       "</table>\n",
       "</div>"
      ],
      "text/plain": [
       "    CustId  Rating        Date  MovieId  Movie_Id  Release_Year  \\\n",
       "0  1488844       3  2005-09-06        1         1        2003.0   \n",
       "1   822109       5  2005-05-13        1         1        2003.0   \n",
       "2   885013       4  2005-10-19        1         1        2003.0   \n",
       "3    30878       4  2005-12-26        1         1        2003.0   \n",
       "4   823519       3  2004-05-03        1         1        2003.0   \n",
       "\n",
       "          Movie_Title            Genre  \\\n",
       "0  Dinosaur Planet     Science Fiction   \n",
       "1  Dinosaur Planet     Science Fiction   \n",
       "2  Dinosaur Planet     Science Fiction   \n",
       "3  Dinosaur Planet     Science Fiction   \n",
       "4  Dinosaur Planet     Science Fiction   \n",
       "\n",
       "                                    Sentiment_Scores  \n",
       "0  {'neg': 0.0, 'neu': 1.0, 'pos': 0.0, 'compound...  \n",
       "1  {'neg': 0.0, 'neu': 1.0, 'pos': 0.0, 'compound...  \n",
       "2  {'neg': 0.0, 'neu': 1.0, 'pos': 0.0, 'compound...  \n",
       "3  {'neg': 0.0, 'neu': 1.0, 'pos': 0.0, 'compound...  \n",
       "4  {'neg': 0.0, 'neu': 1.0, 'pos': 0.0, 'compound...  "
      ]
     },
     "execution_count": 43,
     "metadata": {},
     "output_type": "execute_result"
    }
   ],
   "source": [
    "df.head()"
   ]
  },
  {
   "cell_type": "code",
   "execution_count": 45,
   "id": "ff535c21-61d9-40d5-af8b-fdc50b9b6170",
   "metadata": {},
   "outputs": [],
   "source": [
    "df.to_csv(\"Netflix_user_mood_chart\", index=False)"
   ]
  }
 ],
 "metadata": {
  "kernelspec": {
   "display_name": "Python 3",
   "language": "python",
   "name": "python3"
  },
  "language_info": {
   "codemirror_mode": {
    "name": "ipython",
    "version": 3
   },
   "file_extension": ".py",
   "mimetype": "text/x-python",
   "name": "python",
   "nbconvert_exporter": "python",
   "pygments_lexer": "ipython3",
   "version": "3.8.8"
  }
 },
 "nbformat": 4,
 "nbformat_minor": 5
}
